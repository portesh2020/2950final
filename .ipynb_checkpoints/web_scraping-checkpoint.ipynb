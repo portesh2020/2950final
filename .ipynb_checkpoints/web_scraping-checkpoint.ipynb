{
 "cells": [
  {
   "cell_type": "code",
   "execution_count": 2,
   "metadata": {},
   "outputs": [],
   "source": [
    "import pandas as pd\n",
    "from bs4 import BeautifulSoup\n",
    "import requests\n",
    "import numpy as np\n",
    "import re"
   ]
  },
  {
   "cell_type": "code",
   "execution_count": 3,
   "metadata": {},
   "outputs": [],
   "source": [
    "sephora_brands = \"https://www.sephora.com/brands-list\""
   ]
  },
  {
   "cell_type": "code",
   "execution_count": 4,
   "metadata": {},
   "outputs": [],
   "source": [
    "html_brands = requests.get(sephora_brands).text"
   ]
  },
  {
   "cell_type": "code",
   "execution_count": 5,
   "metadata": {},
   "outputs": [],
   "source": [
    "b = BeautifulSoup(html_brands, \"html.parser\")"
   ]
  },
  {
   "cell_type": "code",
   "execution_count": 7,
   "metadata": {},
   "outputs": [],
   "source": [
    "# b"
   ]
  },
  {
   "cell_type": "code",
   "execution_count": 8,
   "metadata": {},
   "outputs": [],
   "source": [
    "brands = b.findAll('li')"
   ]
  },
  {
   "cell_type": "code",
   "execution_count": 10,
   "metadata": {},
   "outputs": [],
   "source": [
    "# brands"
   ]
  },
  {
   "cell_type": "code",
   "execution_count": 11,
   "metadata": {},
   "outputs": [],
   "source": [
    "# b.find('li').find('a')['href']"
   ]
  },
  {
   "cell_type": "code",
   "execution_count": 12,
   "metadata": {},
   "outputs": [],
   "source": [
    "li = []\n",
    "for brand in brands:\n",
    "#     print(brand.get_text())\n",
    "    li.append(brand.get_text()[:-1].lower())\n",
    "# li"
   ]
  },
  {
   "cell_type": "code",
   "execution_count": 14,
   "metadata": {},
   "outputs": [],
   "source": [
    "# li"
   ]
  },
  {
   "cell_type": "code",
   "execution_count": 15,
   "metadata": {},
   "outputs": [],
   "source": [
    "ext_li = []\n",
    "# get urls of each brand if necessary\n",
    "for brand in brands:\n",
    "    ext_li.append(brand.find(\"a\")['href'])\n",
    "#     print(brand.find(\"a\")['href'])"
   ]
  },
  {
   "cell_type": "code",
   "execution_count": 16,
   "metadata": {},
   "outputs": [],
   "source": [
    "df = pd.DataFrame({'brands': li, 'url' : ext_li, 'cruelty_free': 0})"
   ]
  },
  {
   "cell_type": "code",
   "execution_count": 17,
   "metadata": {},
   "outputs": [
    {
     "data": {
      "text/html": [
       "<div>\n",
       "<style scoped>\n",
       "    .dataframe tbody tr th:only-of-type {\n",
       "        vertical-align: middle;\n",
       "    }\n",
       "\n",
       "    .dataframe tbody tr th {\n",
       "        vertical-align: top;\n",
       "    }\n",
       "\n",
       "    .dataframe thead th {\n",
       "        text-align: right;\n",
       "    }\n",
       "</style>\n",
       "<table border=\"1\" class=\"dataframe\">\n",
       "  <thead>\n",
       "    <tr style=\"text-align: right;\">\n",
       "      <th></th>\n",
       "      <th>brands</th>\n",
       "      <th>url</th>\n",
       "      <th>cruelty_free</th>\n",
       "    </tr>\n",
       "  </thead>\n",
       "  <tbody>\n",
       "    <tr>\n",
       "      <th>0</th>\n",
       "      <td>acqua di parma</td>\n",
       "      <td>/brand/acqua-di-parma</td>\n",
       "      <td>0</td>\n",
       "    </tr>\n",
       "    <tr>\n",
       "      <th>1</th>\n",
       "      <td>aerin</td>\n",
       "      <td>/brand/aerin-perfume</td>\n",
       "      <td>0</td>\n",
       "    </tr>\n",
       "    <tr>\n",
       "      <th>2</th>\n",
       "      <td>aether beauty</td>\n",
       "      <td>/brand/aether-beauty</td>\n",
       "      <td>0</td>\n",
       "    </tr>\n",
       "    <tr>\n",
       "      <th>3</th>\n",
       "      <td>algenist</td>\n",
       "      <td>/brand/algenist</td>\n",
       "      <td>0</td>\n",
       "    </tr>\n",
       "    <tr>\n",
       "      <th>4</th>\n",
       "      <td>alpha-h</td>\n",
       "      <td>/brand/alpha-h</td>\n",
       "      <td>0</td>\n",
       "    </tr>\n",
       "  </tbody>\n",
       "</table>\n",
       "</div>"
      ],
      "text/plain": [
       "           brands                    url  cruelty_free\n",
       "0  acqua di parma  /brand/acqua-di-parma             0\n",
       "1           aerin   /brand/aerin-perfume             0\n",
       "2   aether beauty   /brand/aether-beauty             0\n",
       "3        algenist        /brand/algenist             0\n",
       "4         alpha-h         /brand/alpha-h             0"
      ]
     },
     "execution_count": 17,
     "metadata": {},
     "output_type": "execute_result"
    }
   ],
   "source": [
    "df.head()"
   ]
  },
  {
   "cell_type": "code",
   "execution_count": 18,
   "metadata": {},
   "outputs": [],
   "source": [
    "# for u in df['url'][0]: #testing - just get first 5 brands\n",
    "#     print('sephora.com'+u) #url of each brand relevant \n",
    "#     url = 'http://sephora.com'+u\n",
    "#     html_onebrand = requests.get(url).text\n",
    "#     s = BeautifulSoup(html_onebrand, \"html.parser\")\n",
    "#     print(s.find(class_='css-0'))\n"
   ]
  },
  {
   "cell_type": "code",
   "execution_count": 194,
   "metadata": {},
   "outputs": [],
   "source": [
    "urban_decay_url = \"https://www.sephora.com/brand/urban-decay\""
   ]
  },
  {
   "cell_type": "code",
   "execution_count": 195,
   "metadata": {},
   "outputs": [],
   "source": [
    "ud_html = requests.get(urban_decay_url)\n",
    "ud = BeautifulSoup(ud_html.text, \"html.parser\")"
   ]
  },
  {
   "cell_type": "code",
   "execution_count": 196,
   "metadata": {},
   "outputs": [],
   "source": [
    "# ud.findAll(class_='css-1wctlol')"
   ]
  },
  {
   "cell_type": "code",
   "execution_count": 197,
   "metadata": {},
   "outputs": [
    {
     "name": "stdout",
     "output_type": "stream",
     "text": [
      "1 Urban Decay All Nighter Long-Lasting Makeup Setting Spray\n",
      "2 Urban Decay All Nighter Long-Lasting Makeup Setting Spray Jumbo\n",
      "3 Urban Decay 24/7 Glide-On Eye Pencil\n",
      "4 Urban Decay Stay Naked Weightless Foundation\n",
      "5 Urban Decay All Nighter Long-Lasting Makeup Setting Spray Mini\n",
      "6 Urban Decay Eyeshadow Primer Potion - Original\n",
      "7 Urban Decay Naked3 Palette\n",
      "8 Urban Decay Naked2 Basics Eyeshadow Palette\n",
      "9 Urban Decay Perversion Mascara\n",
      "10 Urban Decay Eyeshadow\n",
      "11 Urban Decay De-Slick Oil-Control Makeup Setting Spray\n",
      "12 Urban Decay Brow Blade Waterproof Eyebrow Pencil & Ink Stain\n"
     ]
    }
   ],
   "source": [
    "products = ud.findAll(class_=\"css-ix8km1\")\n",
    "i=0\n",
    "for product in products:\n",
    "    i+=1\n",
    "    print(i, product['aria-label'])"
   ]
  },
  {
   "cell_type": "code",
   "execution_count": 198,
   "metadata": {},
   "outputs": [],
   "source": [
    "# page = urllib2.urlopen(quote_page)\n",
    "# Finally, parse the page into BeautifulSoup format so we can use BeautifulSoup to work on it.\n",
    "\n",
    "# parse the html using beautiful soup and store in variable `soup`\n",
    "# soup = BeautifulSoup(page, ‘html.parser’)\n",
    "# ud = urban_decay_url.urlopen"
   ]
  },
  {
   "cell_type": "code",
   "execution_count": 19,
   "metadata": {},
   "outputs": [],
   "source": [
    "crueltyFree_url = \"https://www.crueltyfreekitty.com/list-of-cruelty-free-brands/\""
   ]
  },
  {
   "cell_type": "code",
   "execution_count": 20,
   "metadata": {},
   "outputs": [],
   "source": [
    "html_cf = requests.get(crueltyFree_url).text\n",
    "cruelty_free = BeautifulSoup(html_cf, 'html.parser')"
   ]
  },
  {
   "cell_type": "code",
   "execution_count": 21,
   "metadata": {},
   "outputs": [],
   "source": [
    "rows = cruelty_free.findAll(rel='bookmark')"
   ]
  },
  {
   "cell_type": "code",
   "execution_count": 22,
   "metadata": {},
   "outputs": [],
   "source": [
    "# get the list of cruelty free brands on website\n",
    "cf_li = []\n",
    "for row in rows:\n",
    "    cf_li.append(row.get_text().strip().lower())\n",
    "\n",
    "# cf_li"
   ]
  },
  {
   "cell_type": "code",
   "execution_count": 23,
   "metadata": {},
   "outputs": [],
   "source": [
    "notCF_url = 'https://www.crueltyfreekitty.com/companies-that-test-on-animals/'\n",
    "html_ncf = requests.get(notCF_url).text\n",
    "not_cf = BeautifulSoup(html_ncf, \"html.parser\")"
   ]
  },
  {
   "cell_type": "code",
   "execution_count": 24,
   "metadata": {},
   "outputs": [],
   "source": [
    "rows = not_cf.findAll(rel=\"bookmark\")\n",
    "n_li = []\n",
    "for row in rows:\n",
    "    n_li.append(row.get_text().strip().lower())\n",
    "    \n",
    "# n_li"
   ]
  },
  {
   "cell_type": "code",
   "execution_count": null,
   "metadata": {},
   "outputs": [],
   "source": []
  },
  {
   "cell_type": "code",
   "execution_count": null,
   "metadata": {},
   "outputs": [],
   "source": []
  },
  {
   "cell_type": "code",
   "execution_count": 205,
   "metadata": {},
   "outputs": [],
   "source": [
    "# for b in brand:\n",
    "#     print(b)"
   ]
  },
  {
   "cell_type": "code",
   "execution_count": 206,
   "metadata": {},
   "outputs": [],
   "source": [
    "# n_li[:4]"
   ]
  },
  {
   "cell_type": "code",
   "execution_count": 207,
   "metadata": {},
   "outputs": [],
   "source": [
    "# n_li\n",
    "# df.loc[df['brands']=='urban decay']"
   ]
  },
  {
   "cell_type": "code",
   "execution_count": 25,
   "metadata": {},
   "outputs": [],
   "source": [
    "# change cruelty free to 0 and 1 values \n",
    "for b in df['brands']:\n",
    "    if b in cf_li:\n",
    "        df.loc[df['brands']==b, ['cruelty_free']] = 1"
   ]
  },
  {
   "cell_type": "code",
   "execution_count": 27,
   "metadata": {},
   "outputs": [
    {
     "data": {
      "text/html": [
       "<div>\n",
       "<style scoped>\n",
       "    .dataframe tbody tr th:only-of-type {\n",
       "        vertical-align: middle;\n",
       "    }\n",
       "\n",
       "    .dataframe tbody tr th {\n",
       "        vertical-align: top;\n",
       "    }\n",
       "\n",
       "    .dataframe thead th {\n",
       "        text-align: right;\n",
       "    }\n",
       "</style>\n",
       "<table border=\"1\" class=\"dataframe\">\n",
       "  <thead>\n",
       "    <tr style=\"text-align: right;\">\n",
       "      <th></th>\n",
       "      <th>brands</th>\n",
       "      <th>url</th>\n",
       "      <th>cruelty_free</th>\n",
       "    </tr>\n",
       "  </thead>\n",
       "  <tbody>\n",
       "    <tr>\n",
       "      <th>313</th>\n",
       "      <td>urban decay</td>\n",
       "      <td>/brand/urban-decay</td>\n",
       "      <td>1</td>\n",
       "    </tr>\n",
       "  </tbody>\n",
       "</table>\n",
       "</div>"
      ],
      "text/plain": [
       "          brands                 url  cruelty_free\n",
       "313  urban decay  /brand/urban-decay             1"
      ]
     },
     "execution_count": 27,
     "metadata": {},
     "output_type": "execute_result"
    }
   ],
   "source": [
    "df.loc[df['brands']=='urban decay']"
   ]
  },
  {
   "cell_type": "code",
   "execution_count": 224,
   "metadata": {},
   "outputs": [],
   "source": [
    "# df.loc[df['brands']=='urban decay']"
   ]
  },
  {
   "cell_type": "code",
   "execution_count": 225,
   "metadata": {},
   "outputs": [],
   "source": [
    "# re.search('algenist', n[2], re.IGNORECASE)"
   ]
  },
  {
   "cell_type": "code",
   "execution_count": 226,
   "metadata": {},
   "outputs": [],
   "source": [
    "# n[2]"
   ]
  },
  {
   "cell_type": "code",
   "execution_count": 228,
   "metadata": {},
   "outputs": [],
   "source": [
    "# n"
   ]
  },
  {
   "cell_type": "code",
   "execution_count": null,
   "metadata": {},
   "outputs": [],
   "source": []
  }
 ],
 "metadata": {
  "kernelspec": {
   "display_name": "Python 3",
   "language": "python",
   "name": "python3"
  },
  "language_info": {
   "codemirror_mode": {
    "name": "ipython",
    "version": 3
   },
   "file_extension": ".py",
   "mimetype": "text/x-python",
   "name": "python",
   "nbconvert_exporter": "python",
   "pygments_lexer": "ipython3",
   "version": "3.7.6"
  }
 },
 "nbformat": 4,
 "nbformat_minor": 2
}
